{
 "cells": [
  {
   "cell_type": "code",
   "execution_count": 3,
   "metadata": {
    "collapsed": true,
    "deletable": true,
    "editable": true
   },
   "outputs": [],
   "source": [
    "import pandas as pd\n",
    "import tensorflow as tf \n",
    "import numpy as np \n",
    "import matplotlib.pyplot as plt"
   ]
  },
  {
   "cell_type": "code",
   "execution_count": 16,
   "metadata": {
    "collapsed": true,
    "deletable": true,
    "editable": true
   },
   "outputs": [],
   "source": [
    "from sklearn.preprocessing import normalize, minmax_scale"
   ]
  },
  {
   "cell_type": "code",
   "execution_count": 6,
   "metadata": {
    "collapsed": false,
    "deletable": true,
    "editable": true
   },
   "outputs": [],
   "source": [
    "df = pd.read_csv('datasets/dataset2.csv')"
   ]
  },
  {
   "cell_type": "code",
   "execution_count": 14,
   "metadata": {
    "collapsed": false,
    "deletable": true,
    "editable": true
   },
   "outputs": [
    {
     "data": {
      "text/plain": [
       "0    157\n",
       "1    262\n",
       "2    272\n",
       "3    223\n",
       "4    159\n",
       "5    153\n",
       "6    247\n",
       "7    259\n",
       "8    224\n",
       "9    142\n",
       "Name: average_montly_hours, dtype: int64"
      ]
     },
     "execution_count": 14,
     "metadata": {},
     "output_type": "execute_result"
    }
   ],
   "source": [
    "df['average_montly_hours'][:10]"
   ]
  },
  {
   "cell_type": "code",
   "execution_count": 7,
   "metadata": {
    "collapsed": false,
    "deletable": true,
    "editable": true
   },
   "outputs": [],
   "source": [
    "hours = df['average_montly_hours'].values"
   ]
  },
  {
   "cell_type": "markdown",
   "metadata": {
    "deletable": true,
    "editable": true
   },
   "source": [
    "## Normalization using scikit\n",
    "### L1-norm:\n",
    "It is also known as least absolute deviations (LAD), least absolute errors (LAE). It is basically minimizing the sum of the absolute differences (S) between the target value (Yi) and the estimated values (f(xi))\n",
    "<img src=\"images/l1-norm-formula.png\">\n",
    "\n",
    "To understand easily, its just adding all the values in the array and dividing each of it using the sum"
   ]
  },
  {
   "cell_type": "code",
   "execution_count": 10,
   "metadata": {
    "collapsed": false,
    "deletable": true,
    "editable": true
   },
   "outputs": [
    {
     "data": {
      "text/plain": [
       "array([[  5.20634019e-05],\n",
       "       [  8.68828746e-05],\n",
       "       [  9.01990148e-05],\n",
       "       [  7.39499276e-05],\n",
       "       [  5.27266300e-05],\n",
       "       [  5.07369458e-05],\n",
       "       [  8.19086642e-05],\n",
       "       [  8.58880325e-05],\n",
       "       [  7.42815416e-05],\n",
       "       [  4.70891916e-05]])"
      ]
     },
     "execution_count": 10,
     "metadata": {},
     "output_type": "execute_result"
    }
   ],
   "source": [
    "normalize(df['average_montly_hours'].astype(float).values.reshape(1,-1), norm='l1', axis=1).reshape(-1,1)[:10]"
   ]
  },
  {
   "cell_type": "markdown",
   "metadata": {
    "collapsed": false,
    "deletable": true,
    "editable": true
   },
   "source": [
    "### L2-norm\n",
    "It is also known as least squares. It is basically minimizing the sum of the square of the differences (S) between the target value (Yi) and the estimated values (f(xi):\n",
    "<img src=\"images/l2-norm-formula.png\">\n",
    "\n",
    "To understand easily, its just adding the square of each value in array and taking square root of the sum and dividing every values using the modified sum."
   ]
  },
  {
   "cell_type": "code",
   "execution_count": 11,
   "metadata": {
    "collapsed": false,
    "deletable": true,
    "editable": true
   },
   "outputs": [
    {
     "data": {
      "text/plain": [
       "array([[ 0.00618817],\n",
       "       [ 0.01032675],\n",
       "       [ 0.0107209 ],\n",
       "       [ 0.00878956],\n",
       "       [ 0.006267  ],\n",
       "       [ 0.00603051],\n",
       "       [ 0.00973552],\n",
       "       [ 0.0102085 ],\n",
       "       [ 0.00882898],\n",
       "       [ 0.00559694]])"
      ]
     },
     "execution_count": 11,
     "metadata": {},
     "output_type": "execute_result"
    }
   ],
   "source": [
    "normalize(df['average_montly_hours'].astype(float).values.reshape(1,-1), norm='l2', axis=1).reshape(-1,1)[:10]"
   ]
  },
  {
   "cell_type": "markdown",
   "metadata": {
    "deletable": true,
    "editable": true
   },
   "source": [
    "### Max-norm\n",
    "It is also known as max normalization. In this approach, the data is scaled to a fixed range - usually 0 to 1.\n",
    "\n",
    "It's just dividing every value using the max value in the array."
   ]
  },
  {
   "cell_type": "code",
   "execution_count": 12,
   "metadata": {
    "collapsed": false,
    "deletable": true,
    "editable": true
   },
   "outputs": [
    {
     "data": {
      "text/plain": [
       "array([[ 0.50645161],\n",
       "       [ 0.84516129],\n",
       "       [ 0.87741935],\n",
       "       [ 0.71935484],\n",
       "       [ 0.51290323],\n",
       "       [ 0.49354839],\n",
       "       [ 0.79677419],\n",
       "       [ 0.83548387],\n",
       "       [ 0.72258065],\n",
       "       [ 0.45806452]])"
      ]
     },
     "execution_count": 12,
     "metadata": {},
     "output_type": "execute_result"
    }
   ],
   "source": [
    "normalize(df['average_montly_hours'].astype(float).values.reshape(1,-1), norm='max', axis=1).reshape(-1,1)[:10]"
   ]
  },
  {
   "cell_type": "markdown",
   "metadata": {
    "collapsed": true,
    "deletable": true,
    "editable": true
   },
   "source": [
    "### Min-Max-norm"
   ]
  },
  {
   "cell_type": "code",
   "execution_count": 18,
   "metadata": {
    "collapsed": false
   },
   "outputs": [
    {
     "data": {
      "text/plain": [
       "array([[ 0.28504673],\n",
       "       [ 0.77570093],\n",
       "       [ 0.82242991],\n",
       "       ..., \n",
       "       [ 0.21962617],\n",
       "       [ 0.85981308],\n",
       "       [ 0.28971963]])"
      ]
     },
     "execution_count": 18,
     "metadata": {},
     "output_type": "execute_result"
    }
   ],
   "source": [
    "minmax_scale(df['average_montly_hours'].astype(float).values.reshape(-1,1))"
   ]
  },
  {
   "cell_type": "code",
   "execution_count": null,
   "metadata": {
    "collapsed": true
   },
   "outputs": [],
   "source": []
  }
 ],
 "metadata": {
  "kernelspec": {
   "display_name": "Python 2",
   "language": "python",
   "name": "python2"
  },
  "language_info": {
   "codemirror_mode": {
    "name": "ipython",
    "version": 2
   },
   "file_extension": ".py",
   "mimetype": "text/x-python",
   "name": "python",
   "nbconvert_exporter": "python",
   "pygments_lexer": "ipython2",
   "version": "2.7.10"
  }
 },
 "nbformat": 4,
 "nbformat_minor": 2
}

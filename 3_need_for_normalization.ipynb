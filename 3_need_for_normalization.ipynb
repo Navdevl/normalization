{
 "cells": [
  {
   "cell_type": "code",
   "execution_count": 1,
   "metadata": {
    "collapsed": true,
    "deletable": true,
    "editable": true
   },
   "outputs": [],
   "source": [
    "import pandas as pd\n",
    "import tensorflow as tf \n",
    "import numpy as np \n",
    "import matplotlib.pyplot as plt"
   ]
  },
  {
   "cell_type": "code",
   "execution_count": 2,
   "metadata": {
    "collapsed": true,
    "deletable": true,
    "editable": true
   },
   "outputs": [],
   "source": [
    "from sklearn.preprocessing import normalize"
   ]
  },
  {
   "cell_type": "code",
   "execution_count": 3,
   "metadata": {
    "collapsed": false,
    "deletable": true,
    "editable": true
   },
   "outputs": [],
   "source": [
    "df = pd.read_csv('dataset2.csv')\n",
    "\n",
    "\n",
    "# Weights and bias for NN\n",
    "weight = tf.Variable([1.0])\n",
    "bias = tf.Variable([0.0])\n"
   ]
  },
  {
   "cell_type": "code",
   "execution_count": 4,
   "metadata": {
    "collapsed": false,
    "deletable": true,
    "editable": true
   },
   "outputs": [],
   "source": [
    "hours = df['average_montly_hours'].values"
   ]
  },
  {
   "cell_type": "code",
   "execution_count": 5,
   "metadata": {
    "collapsed": false,
    "deletable": true,
    "editable": true
   },
   "outputs": [],
   "source": [
    "normalized_hours = normalize(df['average_montly_hours'].astype(float).values.reshape(1,-1), norm='l2', axis=1).reshape(-1,1)[:10]"
   ]
  },
  {
   "cell_type": "code",
   "execution_count": 6,
   "metadata": {
    "collapsed": false,
    "deletable": true,
    "editable": true
   },
   "outputs": [],
   "source": [
    "left = df['left'].values"
   ]
  },
  {
   "cell_type": "code",
   "execution_count": 8,
   "metadata": {
    "collapsed": true,
    "deletable": true,
    "editable": true
   },
   "outputs": [],
   "source": [
    "xs = tf.placeholder(tf.float32)\n",
    "ys = tf.placeholder(tf.float32)\n",
    "norm_losses = []\n",
    "losses = []"
   ]
  },
  {
   "cell_type": "code",
   "execution_count": 9,
   "metadata": {
    "collapsed": false,
    "deletable": true,
    "editable": true
   },
   "outputs": [],
   "source": [
    "# Functionalities for Neural Net, simple FeedForwardNetwork\n",
    "output = ( weight * xs ) \n",
    "diff =  output - ys\n",
    "# Cost function is Mean square\n",
    "cost = tf.square(diff)\n",
    "grad = tf.gradients(cost/2, weight)\n",
    "optimized_weight = weight - 0.0001 * grad\n",
    "reduced_cost = tf.reduce_mean(cost) \n"
   ]
  },
  {
   "cell_type": "code",
   "execution_count": null,
   "metadata": {
    "collapsed": true
   },
   "outputs": [],
   "source": [
    "# Start the session\n",
    "sess = tf.Session()\n",
    "sess.run(tf.global_variables_initializer())"
   ]
  },
  {
   "cell_type": "code",
   "execution_count": 10,
   "metadata": {
    "collapsed": false,
    "deletable": true,
    "editable": true
   },
   "outputs": [],
   "source": [
    "for i in range(1000):\n",
    "    if i%10 == 0:\n",
    "#         print ''\n",
    "#         print 'Step: ', i\n",
    "#         print 'Gradient: ', sess.run([grad1, grad], {xs: normalized_hours, ys: left})\n",
    "#         print 'Weight: ' , sess.run([weight])[0][0]\n",
    "#         print 'Bias: ', sess.run([bias])[0][0]\n",
    "#         print 'Loss: ', sess.run([reduced_cost], {xs: normalized_hours, ys: left})[0]\n",
    "#         print 'Optimized Weight: ', sess.run([optimized_weight], {xs: normalized_hours, ys: left})[0]\n",
    "        losses.append(sess.run([reduced_cost], {xs: normalized_hours, ys: left})[0])\n",
    "    sess.run(tf.assign(weight, sess.run([optimized_weight], {xs: normalized_hours, ys: left})[0]))"
   ]
  },
  {
   "cell_type": "code",
   "execution_count": 11,
   "metadata": {
    "collapsed": false,
    "deletable": true,
    "editable": true
   },
   "outputs": [
    {
     "data": {
      "text/plain": [
       "[0.23416676,\n",
       " 0.23310021,\n",
       " 0.23206881,\n",
       " 0.23112033,\n",
       " 0.23007339,\n",
       " 0.22907534,\n",
       " 0.22813961,\n",
       " 0.22724921,\n",
       " 0.22632329,\n",
       " 0.22541675,\n",
       " 0.22448824,\n",
       " 0.22362098,\n",
       " 0.22278683,\n",
       " 0.22192873,\n",
       " 0.22120039,\n",
       " 0.22041467,\n",
       " 0.21960805,\n",
       " 0.21888733,\n",
       " 0.21809705,\n",
       " 0.21741426,\n",
       " 0.2166829,\n",
       " 0.2160147,\n",
       " 0.21529277,\n",
       " 0.21464083,\n",
       " 0.21405086,\n",
       " 0.21335436,\n",
       " 0.21277718,\n",
       " 0.2121194,\n",
       " 0.21155502,\n",
       " 0.21097089,\n",
       " 0.21036956,\n",
       " 0.20984331,\n",
       " 0.20930973,\n",
       " 0.20876855,\n",
       " 0.2081898,\n",
       " 0.20770586,\n",
       " 0.20717391,\n",
       " 0.20672236,\n",
       " 0.20625848,\n",
       " 0.20578861,\n",
       " 0.20532075,\n",
       " 0.20481499,\n",
       " 0.20440988,\n",
       " 0.2040344,\n",
       " 0.20357043,\n",
       " 0.20314638,\n",
       " 0.20277412,\n",
       " 0.20237295,\n",
       " 0.20198771,\n",
       " 0.20156696,\n",
       " 0.20125292,\n",
       " 0.20090498,\n",
       " 0.20046329,\n",
       " 0.20017219,\n",
       " 0.19984749,\n",
       " 0.19949615,\n",
       " 0.1991972,\n",
       " 0.19886267,\n",
       " 0.19853777,\n",
       " 0.19824439,\n",
       " 0.1979574,\n",
       " 0.19761236,\n",
       " 0.197377,\n",
       " 0.19712861,\n",
       " 0.19683576,\n",
       " 0.19658901,\n",
       " 0.19622438,\n",
       " 0.19602181,\n",
       " 0.19580232,\n",
       " 0.195539,\n",
       " 0.19529757,\n",
       " 0.19505346,\n",
       " 0.19484153,\n",
       " 0.19459887,\n",
       " 0.19436951,\n",
       " 0.19414765,\n",
       " 0.1939604,\n",
       " 0.19376531,\n",
       " 0.19355962,\n",
       " 0.19333486,\n",
       " 0.19312261,\n",
       " 0.19298226,\n",
       " 0.1927903,\n",
       " 0.19260059,\n",
       " 0.19245237,\n",
       " 0.19224142,\n",
       " 0.19207415,\n",
       " 0.19191797,\n",
       " 0.19177009,\n",
       " 0.19160914,\n",
       " 0.19142462,\n",
       " 0.19130798,\n",
       " 0.19113849,\n",
       " 0.19100411,\n",
       " 0.19085099,\n",
       " 0.1907234,\n",
       " 0.19058,\n",
       " 0.19046256,\n",
       " 0.19031008,\n",
       " 0.19014175]"
      ]
     },
     "execution_count": 11,
     "metadata": {},
     "output_type": "execute_result"
    }
   ],
   "source": [
    "losses"
   ]
  },
  {
   "cell_type": "code",
   "execution_count": 12,
   "metadata": {
    "collapsed": false,
    "deletable": true,
    "editable": true
   },
   "outputs": [
    {
     "data": {
      "text/plain": [
       "[<matplotlib.lines.Line2D at 0x113dfb7d0>]"
      ]
     },
     "execution_count": 12,
     "metadata": {},
     "output_type": "execute_result"
    }
   ],
   "source": [
    "plt.plot(np.arange(100.0), losses)"
   ]
  },
  {
   "cell_type": "code",
   "execution_count": 13,
   "metadata": {
    "collapsed": false,
    "deletable": true,
    "editable": true
   },
   "outputs": [
    {
     "data": {
      "image/png": "[encoded data removed]",
      "text/plain": [
       "<matplotlib.figure.Figure at 0x111b82190>"
      ]
     },
     "metadata": {},
     "output_type": "display_data"
    }
   ],
   "source": [
    "plt.show()"
   ]
  },
  {
   "cell_type": "code",
   "execution_count": 14,
   "metadata": {
    "collapsed": false,
    "deletable": true,
    "editable": true
   },
   "outputs": [],
   "source": [
    "sess.close()\n",
    "sess = tf.Session()\n",
    "sess.run(tf.global_variables_initializer())"
   ]
  },
  {
   "cell_type": "code",
   "execution_count": 15,
   "metadata": {
    "collapsed": false,
    "deletable": true,
    "editable": true
   },
   "outputs": [
    {
     "name": "stdout",
     "output_type": "stream",
     "text": [
      "Weight:  1.0\n",
      "Weight:  -64293.1\n",
      "Weight:  4.1384e+09\n",
      "Weight:  -2.66379e+14\n",
      "Weight:  1.71463e+19\n",
      "Weight:  -1.10367e+24\n",
      "Weight:  7.10406e+28\n",
      "Weight:  -4.57274e+33\n",
      "Weight:  inf\n",
      "Weight:  nan\n",
      "Weight:  nan\n",
      "Weight:  nan\n",
      "Weight:  nan\n",
      "Weight:  nan\n",
      "Weight:  nan\n",
      "Weight:  nan\n",
      "Weight:  nan\n",
      "Weight:  nan\n",
      "Weight:  nan\n",
      "Weight:  nan\n",
      "Weight:  nan\n",
      "Weight:  nan\n",
      "Weight:  nan\n",
      "Weight:  nan\n",
      "Weight:  nan\n",
      "Weight:  nan\n",
      "Weight:  nan\n",
      "Weight:  nan\n",
      "Weight:  nan\n",
      "Weight:  nan\n",
      "Weight:  nan\n",
      "Weight:  nan\n",
      "Weight:  nan\n",
      "Weight:  nan\n",
      "Weight:  nan\n",
      "Weight:  nan\n",
      "Weight:  nan\n",
      "Weight:  nan\n",
      "Weight:  nan\n",
      "Weight:  nan\n",
      "Weight:  nan\n",
      "Weight:  nan\n",
      "Weight:  nan\n",
      "Weight:  nan\n",
      "Weight:  nan\n",
      "Weight:  nan\n",
      "Weight:  nan\n",
      "Weight:  nan\n",
      "Weight:  nan\n",
      "Weight:  nan\n",
      "Weight:  nan\n",
      "Weight:  nan\n",
      "Weight:  nan\n",
      "Weight:  nan\n",
      "Weight:  nan\n",
      "Weight:  nan\n",
      "Weight:  nan\n",
      "Weight:  nan\n",
      "Weight:  nan\n",
      "Weight:  nan\n",
      "Weight:  nan\n",
      "Weight:  nan\n",
      "Weight:  nan\n",
      "Weight:  nan\n",
      "Weight:  nan\n",
      "Weight:  nan\n",
      "Weight:  nan\n",
      "Weight:  nan\n",
      "Weight:  nan\n",
      "Weight:  nan\n",
      "Weight:  nan\n",
      "Weight:  nan\n",
      "Weight:  nan\n",
      "Weight:  nan\n",
      "Weight:  nan\n",
      "Weight:  nan\n",
      "Weight:  nan\n",
      "Weight:  nan\n",
      "Weight:  nan\n",
      "Weight:  nan\n",
      "Weight:  nan\n",
      "Weight:  nan\n",
      "Weight:  nan\n",
      "Weight:  nan\n",
      "Weight:  nan\n",
      "Weight:  nan\n",
      "Weight:  nan\n",
      "Weight:  nan\n",
      "Weight:  nan\n",
      "Weight:  nan\n",
      "Weight:  nan\n",
      "Weight:  nan\n",
      "Weight:  nan\n",
      "Weight:  nan\n",
      "Weight:  nan\n",
      "Weight:  nan\n",
      "Weight:  nan\n",
      "Weight:  nan\n",
      "Weight:  nan\n",
      "Weight:  nan\n"
     ]
    }
   ],
   "source": [
    "for i in range(100):\n",
    "#     if i%1 == 0:\n",
    "#         print ''\n",
    "#         print 'Step: ', i\n",
    "#         priznt 'Gradient: ', sess.run([grad1, grad], {xs: normalized_hours, ys: left})\n",
    "    print 'Weight: ' , sess.run([weight])[0][0]\n",
    "#         print 'Bias: ', sess.run([bias])[0][0]\n",
    "#         print 'Loss: ', sess.run([reduced_cost], {xs: normalized_hours, ys: left})[0]\n",
    "#         print 'Optimized Weight: ', sess.run([optimized_weight], {xs: normalized_hours, ys: left})[0]\n",
    "    xlosses.append(sess.run([reduced_cost], {xs: hours, ys: left})[0])\n",
    "    sess.run(tf.assign(weight, sess.run([optimized_weight], {xs: hours, ys: left})[0]))"
   ]
  },
  {
   "cell_type": "code",
   "execution_count": 16,
   "metadata": {
    "collapsed": false,
    "deletable": true,
    "editable": true
   },
   "outputs": [
    {
     "data": {
      "image/png": "[encoded data removed]",
      "text/plain": [
       "<matplotlib.figure.Figure at 0x1143a1c10>"
      ]
     },
     "metadata": {},
     "output_type": "display_data"
    }
   ],
   "source": [
    "plt.plot(np.arange(100.0), xlosses)\n",
    "plt.show()"
   ]
  },
  {
   "cell_type": "code",
   "execution_count": null,
   "metadata": {
    "collapsed": true,
    "deletable": true,
    "editable": true
   },
   "outputs": [],
   "source": []
  }
 ],
 "metadata": {
  "kernelspec": {
   "display_name": "Python 2",
   "language": "python",
   "name": "python2"
  },
  "language_info": {
   "codemirror_mode": {
    "name": "ipython",
    "version": 2
   },
   "file_extension": ".py",
   "mimetype": "text/x-python",
   "name": "python",
   "nbconvert_exporter": "python",
   "pygments_lexer": "ipython2",
   "version": "2.7.10"
  }
 },
 "nbformat": 4,
 "nbformat_minor": 2
}
